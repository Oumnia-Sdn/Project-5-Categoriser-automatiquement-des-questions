{
 "cells": [
  {
   "cell_type": "markdown",
   "id": "860ea3c1",
   "metadata": {},
   "source": [
    "# Env"
   ]
  },
  {
   "cell_type": "code",
   "execution_count": 1,
   "id": "1bbd6220",
   "metadata": {},
   "outputs": [
    {
     "name": "stdout",
     "output_type": "stream",
     "text": [
      "Init Plugin\n",
      "Init Graph Optimizer\n",
      "Init Kernel\n"
     ]
    }
   ],
   "source": [
    "import pandas as pd\n",
    "import numpy as np\n",
    "\n",
    "''' Data visualisation'''\n",
    "import matplotlib.pyplot as plt\n",
    "import seaborn as sns\n",
    "import chart_studio.plotly as py\n",
    "import plotly.graph_objects as go\n",
    "import plotly.offline as pyoff\n",
    "import warnings\n",
    "\n",
    "'''text processing '''\n",
    "import re\n",
    "from bs4 import BeautifulSoup\n",
    "import nltk\n",
    "from nltk.corpus import stopwords\n",
    "from nltk.stem.wordnet import WordNetLemmatizer\n",
    "from nltk.stem.snowball import EnglishStemmer\n",
    "import spacy\n",
    "from spacy import displacy\n",
    "from wordcloud import WordCloud\n",
    "from sklearn.preprocessing import KBinsDiscretizer"
   ]
  },
  {
   "cell_type": "code",
   "execution_count": 2,
   "id": "14ef8c55",
   "metadata": {},
   "outputs": [],
   "source": [
    "data1= pd.read_csv('stackexchange-2002-2012.csv')\n",
    "data2= pd.read_csv('stackexchange-2013-2022.csv')\n",
    "frame= [data1 , data2]\n",
    "data = pd.concat(frame)"
   ]
  },
  {
   "cell_type": "code",
   "execution_count": 3,
   "id": "20f243c7",
   "metadata": {
    "scrolled": true
   },
   "outputs": [
    {
     "data": {
      "text/html": [
       "<div>\n",
       "<style scoped>\n",
       "    .dataframe tbody tr th:only-of-type {\n",
       "        vertical-align: middle;\n",
       "    }\n",
       "\n",
       "    .dataframe tbody tr th {\n",
       "        vertical-align: top;\n",
       "    }\n",
       "\n",
       "    .dataframe thead th {\n",
       "        text-align: right;\n",
       "    }\n",
       "</style>\n",
       "<table border=\"1\" class=\"dataframe\">\n",
       "  <thead>\n",
       "    <tr style=\"text-align: right;\">\n",
       "      <th></th>\n",
       "      <th>Id</th>\n",
       "      <th>CreationDate</th>\n",
       "      <th>Score</th>\n",
       "      <th>ViewCount</th>\n",
       "      <th>AnswerCount</th>\n",
       "      <th>CommentCount</th>\n",
       "      <th>FavoriteCount</th>\n",
       "      <th>Title</th>\n",
       "      <th>Body</th>\n",
       "      <th>Tags</th>\n",
       "    </tr>\n",
       "  </thead>\n",
       "  <tbody>\n",
       "    <tr>\n",
       "      <th>0</th>\n",
       "      <td>4</td>\n",
       "      <td>2008-07-31 21:42:52</td>\n",
       "      <td>792</td>\n",
       "      <td>69863</td>\n",
       "      <td>14</td>\n",
       "      <td>7</td>\n",
       "      <td>0</td>\n",
       "      <td>How to convert Decimal to Double in C#?</td>\n",
       "      <td>&lt;p&gt;I want to assign the decimal variable &amp;quot...</td>\n",
       "      <td>&lt;c#&gt;&lt;floating-point&gt;&lt;type-conversion&gt;&lt;double&gt;&lt;...</td>\n",
       "    </tr>\n",
       "    <tr>\n",
       "      <th>1</th>\n",
       "      <td>9</td>\n",
       "      <td>2008-07-31 23:40:59</td>\n",
       "      <td>2195</td>\n",
       "      <td>776461</td>\n",
       "      <td>72</td>\n",
       "      <td>10</td>\n",
       "      <td>0</td>\n",
       "      <td>How do I calculate someone's age based on a Da...</td>\n",
       "      <td>&lt;p&gt;Given a &lt;code&gt;DateTime&lt;/code&gt; representing ...</td>\n",
       "      <td>&lt;c#&gt;&lt;.net&gt;&lt;datetime&gt;</td>\n",
       "    </tr>\n",
       "    <tr>\n",
       "      <th>2</th>\n",
       "      <td>13</td>\n",
       "      <td>2008-08-01 00:42:38</td>\n",
       "      <td>698</td>\n",
       "      <td>272985</td>\n",
       "      <td>27</td>\n",
       "      <td>10</td>\n",
       "      <td>0</td>\n",
       "      <td>Determine a user's timezone</td>\n",
       "      <td>&lt;p&gt;Is there a standard way for a web server to...</td>\n",
       "      <td>&lt;html&gt;&lt;browser&gt;&lt;timezone&gt;&lt;user-agent&gt;&lt;timezone...</td>\n",
       "    </tr>\n",
       "    <tr>\n",
       "      <th>3</th>\n",
       "      <td>19</td>\n",
       "      <td>2008-08-01 05:21:22</td>\n",
       "      <td>350</td>\n",
       "      <td>67052</td>\n",
       "      <td>24</td>\n",
       "      <td>17</td>\n",
       "      <td>0</td>\n",
       "      <td>What is the fastest way to get the value of π?</td>\n",
       "      <td>&lt;p&gt;I'm looking for the fastest way to obtain t...</td>\n",
       "      <td>&lt;performance&gt;&lt;algorithm&gt;&lt;language-agnostic&gt;&lt;un...</td>\n",
       "    </tr>\n",
       "    <tr>\n",
       "      <th>4</th>\n",
       "      <td>123</td>\n",
       "      <td>2008-08-01 16:08:52</td>\n",
       "      <td>120</td>\n",
       "      <td>80193</td>\n",
       "      <td>16</td>\n",
       "      <td>8</td>\n",
       "      <td>0</td>\n",
       "      <td>Java lib or app to convert CSV to XML file?</td>\n",
       "      <td>&lt;p&gt;Is there an existing application or library...</td>\n",
       "      <td>&lt;java&gt;&lt;xml&gt;&lt;csv&gt;&lt;data-conversion&gt;</td>\n",
       "    </tr>\n",
       "    <tr>\n",
       "      <th>...</th>\n",
       "      <td>...</td>\n",
       "      <td>...</td>\n",
       "      <td>...</td>\n",
       "      <td>...</td>\n",
       "      <td>...</td>\n",
       "      <td>...</td>\n",
       "      <td>...</td>\n",
       "      <td>...</td>\n",
       "      <td>...</td>\n",
       "      <td>...</td>\n",
       "    </tr>\n",
       "    <tr>\n",
       "      <th>49995</th>\n",
       "      <td>36372274</td>\n",
       "      <td>2016-04-02 10:48:30</td>\n",
       "      <td>6</td>\n",
       "      <td>1546</td>\n",
       "      <td>1</td>\n",
       "      <td>6</td>\n",
       "      <td>0</td>\n",
       "      <td>How to get conflicts before merge with JGit?</td>\n",
       "      <td>&lt;p&gt;I am trying to perform with JGit all the me...</td>\n",
       "      <td>&lt;git&gt;&lt;conflict&gt;&lt;jgit&gt;&lt;simulate&gt;</td>\n",
       "    </tr>\n",
       "    <tr>\n",
       "      <th>49996</th>\n",
       "      <td>36372525</td>\n",
       "      <td>2016-04-02 11:16:03</td>\n",
       "      <td>8</td>\n",
       "      <td>2058</td>\n",
       "      <td>5</td>\n",
       "      <td>10</td>\n",
       "      <td>0</td>\n",
       "      <td>Alea GPU Tutorial not compiling on VS 2015 Upd...</td>\n",
       "      <td>&lt;p&gt;I am getting error while compiling Alea GPU...</td>\n",
       "      <td>&lt;c#&gt;&lt;f#&gt;&lt;aleagpu&gt;</td>\n",
       "    </tr>\n",
       "    <tr>\n",
       "      <th>49997</th>\n",
       "      <td>36372611</td>\n",
       "      <td>2016-04-02 11:25:49</td>\n",
       "      <td>83</td>\n",
       "      <td>26060</td>\n",
       "      <td>13</td>\n",
       "      <td>7</td>\n",
       "      <td>0</td>\n",
       "      <td>How to test if an object is a Proxy?</td>\n",
       "      <td>&lt;p&gt;I would like to test if a JavaScript object...</td>\n",
       "      <td>&lt;javascript&gt;&lt;ecmascript-6&gt;&lt;proxy-classes&gt;</td>\n",
       "    </tr>\n",
       "    <tr>\n",
       "      <th>49998</th>\n",
       "      <td>36374496</td>\n",
       "      <td>2016-04-02 14:25:38</td>\n",
       "      <td>18</td>\n",
       "      <td>55423</td>\n",
       "      <td>5</td>\n",
       "      <td>8</td>\n",
       "      <td>0</td>\n",
       "      <td>Parse simple JSON string in Batch</td>\n",
       "      <td>&lt;p&gt;How do you parse a simple JSON string in Ba...</td>\n",
       "      <td>&lt;batch-file&gt;</td>\n",
       "    </tr>\n",
       "    <tr>\n",
       "      <th>49999</th>\n",
       "      <td>36374989</td>\n",
       "      <td>2016-04-02 15:13:50</td>\n",
       "      <td>12</td>\n",
       "      <td>92792</td>\n",
       "      <td>4</td>\n",
       "      <td>6</td>\n",
       "      <td>0</td>\n",
       "      <td>Filtering rows based on column values in spark...</td>\n",
       "      <td>&lt;p&gt;I have a dataframe(spark):&lt;/p&gt;\\n\\n&lt;pre&gt;&lt;cod...</td>\n",
       "      <td>&lt;scala&gt;&lt;apache-spark&gt;&lt;dataframe&gt;&lt;apache-spark-...</td>\n",
       "    </tr>\n",
       "  </tbody>\n",
       "</table>\n",
       "<p>89822 rows × 10 columns</p>\n",
       "</div>"
      ],
      "text/plain": [
       "             Id         CreationDate  Score  ViewCount  AnswerCount  \\\n",
       "0             4  2008-07-31 21:42:52    792      69863           14   \n",
       "1             9  2008-07-31 23:40:59   2195     776461           72   \n",
       "2            13  2008-08-01 00:42:38    698     272985           27   \n",
       "3            19  2008-08-01 05:21:22    350      67052           24   \n",
       "4           123  2008-08-01 16:08:52    120      80193           16   \n",
       "...         ...                  ...    ...        ...          ...   \n",
       "49995  36372274  2016-04-02 10:48:30      6       1546            1   \n",
       "49996  36372525  2016-04-02 11:16:03      8       2058            5   \n",
       "49997  36372611  2016-04-02 11:25:49     83      26060           13   \n",
       "49998  36374496  2016-04-02 14:25:38     18      55423            5   \n",
       "49999  36374989  2016-04-02 15:13:50     12      92792            4   \n",
       "\n",
       "       CommentCount  FavoriteCount  \\\n",
       "0                 7              0   \n",
       "1                10              0   \n",
       "2                10              0   \n",
       "3                17              0   \n",
       "4                 8              0   \n",
       "...             ...            ...   \n",
       "49995             6              0   \n",
       "49996            10              0   \n",
       "49997             7              0   \n",
       "49998             8              0   \n",
       "49999             6              0   \n",
       "\n",
       "                                                   Title  \\\n",
       "0                How to convert Decimal to Double in C#?   \n",
       "1      How do I calculate someone's age based on a Da...   \n",
       "2                            Determine a user's timezone   \n",
       "3         What is the fastest way to get the value of π?   \n",
       "4            Java lib or app to convert CSV to XML file?   \n",
       "...                                                  ...   \n",
       "49995       How to get conflicts before merge with JGit?   \n",
       "49996  Alea GPU Tutorial not compiling on VS 2015 Upd...   \n",
       "49997               How to test if an object is a Proxy?   \n",
       "49998                  Parse simple JSON string in Batch   \n",
       "49999  Filtering rows based on column values in spark...   \n",
       "\n",
       "                                                    Body  \\\n",
       "0      <p>I want to assign the decimal variable &quot...   \n",
       "1      <p>Given a <code>DateTime</code> representing ...   \n",
       "2      <p>Is there a standard way for a web server to...   \n",
       "3      <p>I'm looking for the fastest way to obtain t...   \n",
       "4      <p>Is there an existing application or library...   \n",
       "...                                                  ...   \n",
       "49995  <p>I am trying to perform with JGit all the me...   \n",
       "49996  <p>I am getting error while compiling Alea GPU...   \n",
       "49997  <p>I would like to test if a JavaScript object...   \n",
       "49998  <p>How do you parse a simple JSON string in Ba...   \n",
       "49999  <p>I have a dataframe(spark):</p>\\n\\n<pre><cod...   \n",
       "\n",
       "                                                    Tags  \n",
       "0      <c#><floating-point><type-conversion><double><...  \n",
       "1                                   <c#><.net><datetime>  \n",
       "2      <html><browser><timezone><user-agent><timezone...  \n",
       "3      <performance><algorithm><language-agnostic><un...  \n",
       "4                      <java><xml><csv><data-conversion>  \n",
       "...                                                  ...  \n",
       "49995                    <git><conflict><jgit><simulate>  \n",
       "49996                                  <c#><f#><aleagpu>  \n",
       "49997          <javascript><ecmascript-6><proxy-classes>  \n",
       "49998                                       <batch-file>  \n",
       "49999  <scala><apache-spark><dataframe><apache-spark-...  \n",
       "\n",
       "[89822 rows x 10 columns]"
      ]
     },
     "execution_count": 3,
     "metadata": {},
     "output_type": "execute_result"
    }
   ],
   "source": [
    "data"
   ]
  },
  {
   "cell_type": "markdown",
   "id": "a12380fa",
   "metadata": {},
   "source": [
    "## Completeness "
   ]
  },
  {
   "cell_type": "code",
   "execution_count": 4,
   "id": "062ca6c8",
   "metadata": {
    "scrolled": false
   },
   "outputs": [
    {
     "data": {
      "text/html": [
       "<div>\n",
       "<style scoped>\n",
       "    .dataframe tbody tr th:only-of-type {\n",
       "        vertical-align: middle;\n",
       "    }\n",
       "\n",
       "    .dataframe tbody tr th {\n",
       "        vertical-align: top;\n",
       "    }\n",
       "\n",
       "    .dataframe thead th {\n",
       "        text-align: right;\n",
       "    }\n",
       "</style>\n",
       "<table border=\"1\" class=\"dataframe\">\n",
       "  <thead>\n",
       "    <tr style=\"text-align: right;\">\n",
       "      <th></th>\n",
       "      <th>Id</th>\n",
       "      <th>Score</th>\n",
       "      <th>ViewCount</th>\n",
       "      <th>AnswerCount</th>\n",
       "      <th>CommentCount</th>\n",
       "      <th>FavoriteCount</th>\n",
       "    </tr>\n",
       "  </thead>\n",
       "  <tbody>\n",
       "    <tr>\n",
       "      <th>count</th>\n",
       "      <td>8.982200e+04</td>\n",
       "      <td>89822.000000</td>\n",
       "      <td>8.982200e+04</td>\n",
       "      <td>89822.000000</td>\n",
       "      <td>89822.000000</td>\n",
       "      <td>89822.000000</td>\n",
       "    </tr>\n",
       "    <tr>\n",
       "      <th>mean</th>\n",
       "      <td>1.683643e+07</td>\n",
       "      <td>49.715215</td>\n",
       "      <td>4.727932e+04</td>\n",
       "      <td>4.882089</td>\n",
       "      <td>8.681793</td>\n",
       "      <td>0.000100</td>\n",
       "    </tr>\n",
       "    <tr>\n",
       "      <th>std</th>\n",
       "      <td>1.027796e+07</td>\n",
       "      <td>258.225963</td>\n",
       "      <td>1.892696e+05</td>\n",
       "      <td>6.028445</td>\n",
       "      <td>3.611611</td>\n",
       "      <td>0.011066</td>\n",
       "    </tr>\n",
       "    <tr>\n",
       "      <th>min</th>\n",
       "      <td>4.000000e+00</td>\n",
       "      <td>6.000000</td>\n",
       "      <td>4.800000e+01</td>\n",
       "      <td>0.000000</td>\n",
       "      <td>6.000000</td>\n",
       "      <td>0.000000</td>\n",
       "    </tr>\n",
       "    <tr>\n",
       "      <th>25%</th>\n",
       "      <td>8.049042e+06</td>\n",
       "      <td>8.000000</td>\n",
       "      <td>2.878250e+03</td>\n",
       "      <td>2.000000</td>\n",
       "      <td>6.000000</td>\n",
       "      <td>0.000000</td>\n",
       "    </tr>\n",
       "    <tr>\n",
       "      <th>50%</th>\n",
       "      <td>1.582270e+07</td>\n",
       "      <td>13.000000</td>\n",
       "      <td>9.069000e+03</td>\n",
       "      <td>3.000000</td>\n",
       "      <td>8.000000</td>\n",
       "      <td>0.000000</td>\n",
       "    </tr>\n",
       "    <tr>\n",
       "      <th>75%</th>\n",
       "      <td>2.545074e+07</td>\n",
       "      <td>27.000000</td>\n",
       "      <td>2.923625e+04</td>\n",
       "      <td>6.000000</td>\n",
       "      <td>10.000000</td>\n",
       "      <td>0.000000</td>\n",
       "    </tr>\n",
       "    <tr>\n",
       "      <th>max</th>\n",
       "      <td>3.637499e+07</td>\n",
       "      <td>26839.000000</td>\n",
       "      <td>1.220050e+07</td>\n",
       "      <td>214.000000</td>\n",
       "      <td>62.000000</td>\n",
       "      <td>2.000000</td>\n",
       "    </tr>\n",
       "  </tbody>\n",
       "</table>\n",
       "</div>"
      ],
      "text/plain": [
       "                 Id         Score     ViewCount   AnswerCount  CommentCount  \\\n",
       "count  8.982200e+04  89822.000000  8.982200e+04  89822.000000  89822.000000   \n",
       "mean   1.683643e+07     49.715215  4.727932e+04      4.882089      8.681793   \n",
       "std    1.027796e+07    258.225963  1.892696e+05      6.028445      3.611611   \n",
       "min    4.000000e+00      6.000000  4.800000e+01      0.000000      6.000000   \n",
       "25%    8.049042e+06      8.000000  2.878250e+03      2.000000      6.000000   \n",
       "50%    1.582270e+07     13.000000  9.069000e+03      3.000000      8.000000   \n",
       "75%    2.545074e+07     27.000000  2.923625e+04      6.000000     10.000000   \n",
       "max    3.637499e+07  26839.000000  1.220050e+07    214.000000     62.000000   \n",
       "\n",
       "       FavoriteCount  \n",
       "count   89822.000000  \n",
       "mean        0.000100  \n",
       "std         0.011066  \n",
       "min         0.000000  \n",
       "25%         0.000000  \n",
       "50%         0.000000  \n",
       "75%         0.000000  \n",
       "max         2.000000  "
      ]
     },
     "execution_count": 4,
     "metadata": {},
     "output_type": "execute_result"
    }
   ],
   "source": [
    "data.describe()"
   ]
  },
  {
   "cell_type": "code",
   "execution_count": 5,
   "id": "c4550833",
   "metadata": {
    "scrolled": true
   },
   "outputs": [
    {
     "name": "stdout",
     "output_type": "stream",
     "text": [
      "<class 'pandas.core.frame.DataFrame'>\n",
      "Int64Index: 89822 entries, 0 to 49999\n",
      "Data columns (total 10 columns):\n",
      " #   Column         Non-Null Count  Dtype \n",
      "---  ------         --------------  ----- \n",
      " 0   Id             89822 non-null  int64 \n",
      " 1   CreationDate   89822 non-null  object\n",
      " 2   Score          89822 non-null  int64 \n",
      " 3   ViewCount      89822 non-null  int64 \n",
      " 4   AnswerCount    89822 non-null  int64 \n",
      " 5   CommentCount   89822 non-null  int64 \n",
      " 6   FavoriteCount  89822 non-null  int64 \n",
      " 7   Title          89822 non-null  object\n",
      " 8   Body           89822 non-null  object\n",
      " 9   Tags           89822 non-null  object\n",
      "dtypes: int64(6), object(4)\n",
      "memory usage: 7.5+ MB\n"
     ]
    }
   ],
   "source": [
    "data.info()"
   ]
  },
  {
   "cell_type": "code",
   "execution_count": 6,
   "id": "6ca6a117",
   "metadata": {},
   "outputs": [
    {
     "data": {
      "text/plain": [
       "89822"
      ]
     },
     "execution_count": 6,
     "metadata": {},
     "output_type": "execute_result"
    }
   ],
   "source": [
    "data.Id.nunique()"
   ]
  },
  {
   "cell_type": "code",
   "execution_count": 7,
   "id": "9bd3acd0",
   "metadata": {},
   "outputs": [],
   "source": [
    "data.set_index('Id', inplace=True)"
   ]
  },
  {
   "cell_type": "markdown",
   "id": "141e8546",
   "metadata": {},
   "source": [
    "## data types"
   ]
  },
  {
   "cell_type": "code",
   "execution_count": 8,
   "id": "128449c6",
   "metadata": {},
   "outputs": [],
   "source": [
    "# Convert CreationDate to datetime \n",
    "data['CreationDate'] = pd.to_datetime(data['CreationDate'])"
   ]
  },
  {
   "cell_type": "code",
   "execution_count": 9,
   "id": "c0415e43",
   "metadata": {},
   "outputs": [
    {
     "name": "stdout",
     "output_type": "stream",
     "text": [
      "<class 'pandas.core.frame.DataFrame'>\n",
      "Int64Index: 89822 entries, 4 to 36374989\n",
      "Data columns (total 9 columns):\n",
      " #   Column         Non-Null Count  Dtype         \n",
      "---  ------         --------------  -----         \n",
      " 0   CreationDate   89822 non-null  datetime64[ns]\n",
      " 1   Score          89822 non-null  int64         \n",
      " 2   ViewCount      89822 non-null  int64         \n",
      " 3   AnswerCount    89822 non-null  int64         \n",
      " 4   CommentCount   89822 non-null  int64         \n",
      " 5   FavoriteCount  89822 non-null  int64         \n",
      " 6   Title          89822 non-null  object        \n",
      " 7   Body           89822 non-null  object        \n",
      " 8   Tags           89822 non-null  object        \n",
      "dtypes: datetime64[ns](1), int64(5), object(3)\n",
      "memory usage: 6.9+ MB\n"
     ]
    }
   ],
   "source": [
    "data.info()"
   ]
  },
  {
   "cell_type": "markdown",
   "id": "51a2213d",
   "metadata": {},
   "source": [
    "# EDA "
   ]
  },
  {
   "cell_type": "markdown",
   "id": "3f7b8685",
   "metadata": {},
   "source": [
    "## nb of questions"
   ]
  },
  {
   "cell_type": "code",
   "execution_count": 10,
   "id": "428244a1",
   "metadata": {},
   "outputs": [
    {
     "data": {
      "text/html": [
       "<div>\n",
       "<style scoped>\n",
       "    .dataframe tbody tr th:only-of-type {\n",
       "        vertical-align: middle;\n",
       "    }\n",
       "\n",
       "    .dataframe tbody tr th {\n",
       "        vertical-align: top;\n",
       "    }\n",
       "\n",
       "    .dataframe thead th {\n",
       "        text-align: right;\n",
       "    }\n",
       "</style>\n",
       "<table border=\"1\" class=\"dataframe\">\n",
       "  <thead>\n",
       "    <tr style=\"text-align: right;\">\n",
       "      <th></th>\n",
       "      <th>Title</th>\n",
       "    </tr>\n",
       "    <tr>\n",
       "      <th>CreationDate</th>\n",
       "      <th></th>\n",
       "    </tr>\n",
       "  </thead>\n",
       "  <tbody>\n",
       "    <tr>\n",
       "      <th>2008-12-31</th>\n",
       "      <td>950</td>\n",
       "    </tr>\n",
       "    <tr>\n",
       "      <th>2009-12-31</th>\n",
       "      <td>3901</td>\n",
       "    </tr>\n",
       "    <tr>\n",
       "      <th>2010-12-31</th>\n",
       "      <td>7321</td>\n",
       "    </tr>\n",
       "    <tr>\n",
       "      <th>2011-12-31</th>\n",
       "      <td>12170</td>\n",
       "    </tr>\n",
       "    <tr>\n",
       "      <th>2012-12-31</th>\n",
       "      <td>15480</td>\n",
       "    </tr>\n",
       "    <tr>\n",
       "      <th>2013-12-31</th>\n",
       "      <td>17999</td>\n",
       "    </tr>\n",
       "    <tr>\n",
       "      <th>2014-12-31</th>\n",
       "      <td>14013</td>\n",
       "    </tr>\n",
       "    <tr>\n",
       "      <th>2015-12-31</th>\n",
       "      <td>14482</td>\n",
       "    </tr>\n",
       "    <tr>\n",
       "      <th>2016-12-31</th>\n",
       "      <td>3506</td>\n",
       "    </tr>\n",
       "  </tbody>\n",
       "</table>\n",
       "</div>"
      ],
      "text/plain": [
       "              Title\n",
       "CreationDate       \n",
       "2008-12-31      950\n",
       "2009-12-31     3901\n",
       "2010-12-31     7321\n",
       "2011-12-31    12170\n",
       "2012-12-31    15480\n",
       "2013-12-31    17999\n",
       "2014-12-31    14013\n",
       "2015-12-31    14482\n",
       "2016-12-31     3506"
      ]
     },
     "execution_count": 10,
     "metadata": {},
     "output_type": "execute_result"
    }
   ],
   "source": [
    "creation_year = data.groupby(pd.Grouper(key='CreationDate',\n",
    "                                    freq='1Y')).agg({'Title': 'count'})\n",
    "creation_year"
   ]
  },
  {
   "cell_type": "code",
   "execution_count": 11,
   "id": "9a705cc6",
   "metadata": {
    "scrolled": true
   },
   "outputs": [
    {
     "data": {
      "image/png": "[encoded data removed]",
      "text/plain": [
       "<Figure size 1080x432 with 1 Axes>"
      ]
     },
     "metadata": {},
     "output_type": "display_data"
    }
   ],
   "source": [
    "\n",
    "creation_year = data.groupby(pd.Grouper(key='CreationDate',\n",
    "                                    freq='1Y')).agg({'Title': 'count'})\n",
    "\n",
    "# plot\n",
    "fig = plt.figure(figsize=(15,6))\n",
    "sns.lineplot(data=creation_year, x=creation_year.index, y='Title', color = 'grey')\n",
    "plt.axhline(creation_year.Title.mean(), \n",
    "            color=\"r\", linestyle='--',\n",
    "            label=\"average nb of questions per year : {:04d}\"\\\n",
    "                   .format(int(creation_year.Title.mean())))\n",
    "plt.xlabel(\"Date of questions\")\n",
    "plt.ylabel(\"Number of questions\")\n",
    "plt.title(\"Number of questions evolution from 2002 to 2022\",\n",
    "          fontsize=18, color=\"blue\")\n",
    "plt.legend()\n",
    "plt.show()"
   ]
  },
  {
   "cell_type": "code",
   "execution_count": 12,
   "id": "fe3e0402",
   "metadata": {},
   "outputs": [
    {
     "data": {
      "text/plain": [
       "Timestamp('2016-04-02 15:13:50')"
      ]
     },
     "execution_count": 12,
     "metadata": {},
     "output_type": "execute_result"
    }
   ],
   "source": [
    "data.CreationDate.max()"
   ]
  },
  {
   "cell_type": "markdown",
   "id": "6302a701",
   "metadata": {},
   "source": [
    "## Length of questions "
   ]
  },
  {
   "cell_type": "code",
   "execution_count": 13,
   "id": "44598895",
   "metadata": {},
   "outputs": [
    {
     "data": {
      "image/png": "[encoded data removed]",
      "text/plain": [
       "<Figure size 1080x432 with 1 Axes>"
      ]
     },
     "metadata": {},
     "output_type": "display_data"
    }
   ],
   "source": [
    "fig = plt.figure(figsize=(15,6))\n",
    "ax = sns.countplot(x=data.Title.str.len(), color= 'grey')\n",
    "start, end = ax.get_xlim()\n",
    "ax.xaxis.set_ticks(np.arange(0, end, 5))\n",
    "plt.axvline(data.Title.str.len().median() - data.Title.str.len().min(),\n",
    "            color=\"r\", linestyle='--',\n",
    "            label=\"Title median length : \"+str(data.Title.str.len().median()))\n",
    "ax.set_axisbelow(True)\n",
    "ax.set_xlabel(\"Lenght of title\")\n",
    "plt.title(\"Questions title length\",\n",
    "          fontsize=18, color=\"blue\")\n",
    "plt.legend();\n"
   ]
  },
  {
   "cell_type": "markdown",
   "id": "5314882e",
   "metadata": {},
   "source": [
    "## body "
   ]
  },
  {
   "cell_type": "code",
   "execution_count": 14,
   "id": "df6f6277",
   "metadata": {
    "scrolled": true
   },
   "outputs": [
    {
     "data": {
      "image/png": "[encoded data removed]",
      "text/plain": [
       "<Figure size 1080x432 with 1 Axes>"
      ]
     },
     "metadata": {},
     "output_type": "display_data"
    }
   ],
   "source": [
    "fig = plt.figure(figsize=(15,6))\n",
    "ax = sns.countplot(x=data.Body.str.len(), color= 'grey')\n",
    "start, end = ax.get_xlim()\n",
    "ax.xaxis.set_ticks(np.arange(0, end, 5))\n",
    "plt.axvline(data.Body.str.len().median() - data.Body.str.len().min(),\n",
    "            color=\"r\", linestyle='--',\n",
    "            label=\"Title median length : \"+str(data.Body.str.len().median()))\n",
    "ax.set_xlabel(\"Lenght of title\")\n",
    "plt.title(\"Questions title length\",\n",
    "          fontsize=18, color=\"blue\")\n",
    "plt.legend();"
   ]
  },
  {
   "cell_type": "code",
   "execution_count": 15,
   "id": "2d87014e",
   "metadata": {},
   "outputs": [],
   "source": [
    "# Discretizer \n",
    "Body = pd.DataFrame(data.Body.str.len())\n",
    "\n",
    "# with 200 bins\n",
    "discretizer = KBinsDiscretizer(n_bins=200,\n",
    "                               encode='ordinal',\n",
    "                               strategy='uniform')\n",
    "body_ln = discretizer.fit_transform(Body)\n",
    "body_ln = discretizer.inverse_transform(body_ln)\n",
    "body_ln = pd.Series(body_ln.reshape(-1))"
   ]
  },
  {
   "cell_type": "code",
   "execution_count": 16,
   "id": "b926a405",
   "metadata": {
    "scrolled": true
   },
   "outputs": [
    {
     "data": {
      "image/png": "[encoded data removed]",
      "text/plain": [
       "<Figure size 1080x432 with 1 Axes>"
      ]
     },
     "metadata": {},
     "output_type": "display_data"
    }
   ],
   "source": [
    "fig = plt.figure(figsize=(15,6))\n",
    "ax = sns.countplot(x=body_ln, color='grey')\n",
    "start, end = ax.get_xlim()\n",
    "ax.xaxis.set_ticks(np.arange(0, end, 25))\n",
    "ax.set_xlabel(\"Body length\")\n",
    "ax.set_axisbelow(True)\n",
    "plt.title(\"Questions body length\",\n",
    "          fontsize=18, color=\"blue\");"
   ]
  },
  {
   "cell_type": "markdown",
   "id": "6a0e3f48",
   "metadata": {},
   "source": [
    "## Tags "
   ]
  },
  {
   "cell_type": "code",
   "execution_count": 17,
   "id": "0c15bd24",
   "metadata": {},
   "outputs": [
    {
     "data": {
      "text/plain": [
       "Id\n",
       "4      <c#><floating-point><type-conversion><double><...\n",
       "9                                   <c#><.net><datetime>\n",
       "13     <html><browser><timezone><user-agent><timezone...\n",
       "19     <performance><algorithm><language-agnostic><un...\n",
       "123                    <java><xml><csv><data-conversion>\n",
       "Name: Tags, dtype: object"
      ]
     },
     "execution_count": 17,
     "metadata": {},
     "output_type": "execute_result"
    }
   ],
   "source": [
    "data.Tags.head()"
   ]
  },
  {
   "cell_type": "code",
   "execution_count": 18,
   "id": "4460952a",
   "metadata": {},
   "outputs": [
    {
     "data": {
      "text/plain": [
       "Id\n",
       "4      c#,floating-point,type-conversion,double,decimal\n",
       "9                                      c#,.net,datetime\n",
       "13     html,browser,timezone,user-agent,timezone-offset\n",
       "19      performance,algorithm,language-agnostic,unix,pi\n",
       "123                        java,xml,csv,data-conversion\n",
       "Name: Tags, dtype: object"
      ]
     },
     "execution_count": 18,
     "metadata": {},
     "output_type": "execute_result"
    }
   ],
   "source": [
    "# replace balise\n",
    "data['Tags'] = data['Tags'].str.translate(str.maketrans({'<': '', '>': ','}))\n",
    "# Delete last \",\" \n",
    "data['Tags'] = data['Tags'].str[:-1]\n",
    "data['Tags'].head()"
   ]
  },
  {
   "cell_type": "code",
   "execution_count": 19,
   "id": "c7434cf2",
   "metadata": {},
   "outputs": [],
   "source": [
    "# split the different words & inject them separately into a list  "
   ]
  },
  {
   "cell_type": "code",
   "execution_count": 20,
   "id": "57ed8457",
   "metadata": {},
   "outputs": [],
   "source": [
    "def count_split_tags(df, column, separator):\n",
    "   \n",
    "    list_words = []\n",
    "    for word in df[column].str.split(separator):\n",
    "        list_words.extend(word)\n",
    "    df_list_words = pd.DataFrame(list_words, columns=[\"Tag\"])\n",
    "    df_list_words = df_list_words.groupby(\"Tag\")\\\n",
    "        .agg(tag_count=(\"Tag\",\"count\"))\n",
    "    #df_list_words.rename(columns = {'Tag': 'tag_count'})\n",
    "    df_list_words.sort_values(\"tag_count\", ascending=False, inplace=True)\n",
    "    return df_list_words"
   ]
  },
  {
   "cell_type": "code",
   "execution_count": 21,
   "id": "06895520",
   "metadata": {},
   "outputs": [
    {
     "name": "stdout",
     "output_type": "stream",
     "text": [
      "There are 15282 tags.\n"
     ]
    }
   ],
   "source": [
    "tags_list = count_split_tags(df=data, column='Tags', separator=',')\n",
    "print(\"There are {} tags.\".format(tags_list.shape[0]))\n"
   ]
  },
  {
   "cell_type": "code",
   "execution_count": 22,
   "id": "660461da",
   "metadata": {
    "scrolled": false
   },
   "outputs": [
    {
     "data": {
      "image/png": "[encoded data removed]",
      "text/plain": [
       "<Figure size 1080x576 with 1 Axes>"
      ]
     },
     "metadata": {},
     "output_type": "display_data"
    }
   ],
   "source": [
    "fig = plt.figure(figsize=(15, 8))\n",
    "ax = sns.barplot(data=tags_list.iloc[0:30, :],\n",
    "            x=tags_list.iloc[0:30, :].index,\n",
    "            y=\"tag_count\", color=\"grey\")\n",
    "plt.xticks(rotation=90)\n",
    "plt.title(\"30 most popular tags in Stackoverflow\",\n",
    "          fontsize=18, color=\"blue\")\n",
    "ax.set_axisbelow(True);"
   ]
  },
  {
   "cell_type": "code",
   "execution_count": 23,
   "id": "f379f380",
   "metadata": {},
   "outputs": [],
   "source": [
    "# evolution dans le temps ? "
   ]
  },
  {
   "cell_type": "code",
   "execution_count": 24,
   "id": "91b74c41",
   "metadata": {
    "scrolled": false
   },
   "outputs": [
    {
     "data": {
      "image/png": "[encoded data removed]",
      "text/plain": [
       "<Figure size 864x576 with 1 Axes>"
      ]
     },
     "metadata": {},
     "output_type": "display_data"
    }
   ],
   "source": [
    "# Create a list of Tags and count the number\n",
    "data['Tags_list'] = data['Tags'].str.split(',')\n",
    "data['Tags_count'] = data['Tags_list'].apply(lambda x: len(x))\n",
    "\n",
    "# Plot the result\n",
    "fig = plt.figure(figsize=(12, 8))\n",
    "ax = sns.countplot(x=data.Tags_count, color=\"grey\")\n",
    "ax.set_xlabel(\"Tags\")\n",
    "ax.set_axisbelow(True)\n",
    "plt.title(\"Number of tags per question\",\n",
    "          fontsize=18, color=\"blue\");"
   ]
  },
  {
   "cell_type": "markdown",
   "id": "d6388e36",
   "metadata": {},
   "source": [
    "### filtering on most popular tags"
   ]
  },
  {
   "cell_type": "code",
   "execution_count": 29,
   "id": "d035c6a8",
   "metadata": {},
   "outputs": [
    {
     "data": {
      "text/plain": [
       "['c++',\n",
       " 'c#',\n",
       " 'java',\n",
       " 'javascript',\n",
       " 'python',\n",
       " 'android',\n",
       " 'c',\n",
       " 'php',\n",
       " 'html',\n",
       " '.net',\n",
       " 'ios',\n",
       " 'jquery',\n",
       " 'css',\n",
       " 'algorithm',\n",
       " 'performance',\n",
       " 'c++11',\n",
       " 'sql',\n",
       " 'objective-c',\n",
       " 'mysql',\n",
       " 'r',\n",
       " 'arrays',\n",
       " 'linux',\n",
       " 'string',\n",
       " 'git',\n",
       " 'multithreading',\n",
       " 'windows',\n",
       " 'asp.net',\n",
       " 'sql-server',\n",
       " 'node.js',\n",
       " 'iphone',\n",
       " 'regex',\n",
       " 'json',\n",
       " 'swift',\n",
       " 'ruby',\n",
       " 'haskell',\n",
       " 'ruby-on-rails',\n",
       " 'gcc',\n",
       " 'optimization',\n",
       " 'asp.net-mvc',\n",
       " 'angularjs',\n",
       " 'xcode',\n",
       " 'delphi',\n",
       " 'math',\n",
       " 'macos',\n",
       " 'visual-studio',\n",
       " 'eclipse',\n",
       " 'google-chrome',\n",
       " 'bash',\n",
       " 'django',\n",
       " 'spring']"
      ]
     },
     "execution_count": 29,
     "metadata": {},
     "output_type": "execute_result"
    }
   ],
   "source": [
    "top_tags = list(tags_list.iloc[0:50].index)\n",
    "top_tags"
   ]
  },
  {
   "cell_type": "code",
   "execution_count": 30,
   "id": "cbc42ca7",
   "metadata": {},
   "outputs": [],
   "source": [
    "# subset data on best/most popular tags \n",
    "def filter_on_tags(x, top_list):\n",
    "    tag_list = []\n",
    "    for item in x:\n",
    "        if (item in top_list):\n",
    "            tag_list.append(item)\n",
    "    return tag_list"
   ]
  },
  {
   "cell_type": "code",
   "execution_count": 32,
   "id": "1b3b724e",
   "metadata": {},
   "outputs": [
    {
     "name": "stdout",
     "output_type": "stream",
     "text": [
      "Updated data shape : 80236 questions.\n"
     ]
    }
   ],
   "source": [
    "data['Tags_list'] = data['Tags_list']\\\n",
    "                    .apply(lambda x: filter_on_tags(x, top_tags))\n",
    "data['number_of_tags'] = data['Tags_list'].apply(lambda x : len(x))\n",
    "data = data[data.number_of_tags > 0]\n",
    "print(\"Updated data shape : {} questions.\".format(data.shape[0]))"
   ]
  },
  {
   "cell_type": "markdown",
   "id": "7fc06fbc",
   "metadata": {},
   "source": [
    "# cleaning questions code"
   ]
  },
  {
   "cell_type": "markdown",
   "id": "489b19c3",
   "metadata": {},
   "source": [
    "## removing code"
   ]
  },
  {
   "cell_type": "code",
   "execution_count": 25,
   "id": "51555a47",
   "metadata": {},
   "outputs": [],
   "source": [
    "def remove_code(x):\n",
    "    \"\"\"Function based on the Beautifulsoup library intended to replace \n",
    "    the content of all the <code> </code> tags of a text specified as a parameter.\n",
    "\n",
    "    Parameters\n",
    "    ----------------------------------------\n",
    "    x : string\n",
    "        Sequence of characters to modify.\n",
    "    ----------------------------------------\n",
    "    \"\"\"\n",
    "    soup = BeautifulSoup(x,\"lxml\")\n",
    "    code_to_remove = soup.findAll(\"code\")\n",
    "    for code in code_to_remove:\n",
    "        code.replace_with(\" \")\n",
    "    return str(soup)"
   ]
  },
  {
   "cell_type": "code",
   "execution_count": 26,
   "id": "748af584",
   "metadata": {
    "scrolled": true
   },
   "outputs": [
    {
     "name": "stdout",
     "output_type": "stream",
     "text": [
      "Id\n",
      "4     I want to assign the decimal variable \"trans\" ...\n",
      "9     Given a   representing a person's birthday, ho...\n",
      "13    Is there a standard way for a web server to be...\n",
      "Name: Body, dtype: object\n"
     ]
    }
   ],
   "source": [
    "# Delete <code> in Body text\n",
    "data['Body'] = data.Body.apply(remove_code)\n",
    "# Delete all html tags\n",
    "data['Body'] = [BeautifulSoup(text,\"lxml\").get_text() for text in data['Body']]\n",
    "print(data['Body'].head(3))"
   ]
  },
  {
   "cell_type": "code",
   "execution_count": 27,
   "id": "3d4b85a4",
   "metadata": {},
   "outputs": [],
   "source": [
    "#to do \n",
    "#test preproc \n",
    "#case , regex, stopwords, languages, punctuation, numbers, lemmetizing"
   ]
  },
  {
   "cell_type": "code",
   "execution_count": null,
   "id": "a60ae6d4",
   "metadata": {},
   "outputs": [],
   "source": []
  },
  {
   "cell_type": "markdown",
   "id": "7f19f408",
   "metadata": {},
   "source": [
    "## language"
   ]
  },
  {
   "cell_type": "code",
   "execution_count": 33,
   "id": "2bcd701f",
   "metadata": {},
   "outputs": [],
   "source": [
    "from langdetect import detect"
   ]
  },
  {
   "cell_type": "code",
   "execution_count": 35,
   "id": "5a943513",
   "metadata": {
    "scrolled": true
   },
   "outputs": [
    {
     "name": "stderr",
     "output_type": "stream",
     "text": [
      "/var/folders/_5/rhjg3s115y30bg6bd3kvpsj00000gn/T/ipykernel_75901/1257961940.py:8: SettingWithCopyWarning:\n",
      "\n",
      "\n",
      "A value is trying to be set on a copy of a slice from a DataFrame.\n",
      "Try using .loc[row_indexer,col_indexer] = value instead\n",
      "\n",
      "See the caveats in the documentation: https://pandas.pydata.org/pandas-docs/stable/user_guide/indexing.html#returning-a-view-versus-a-copy\n",
      "\n",
      "/var/folders/_5/rhjg3s115y30bg6bd3kvpsj00000gn/T/ipykernel_75901/1257961940.py:9: SettingWithCopyWarning:\n",
      "\n",
      "\n",
      "A value is trying to be set on a copy of a slice from a DataFrame.\n",
      "Try using .loc[row_indexer,col_indexer] = value instead\n",
      "\n",
      "See the caveats in the documentation: https://pandas.pydata.org/pandas-docs/stable/user_guide/indexing.html#returning-a-view-versus-a-copy\n",
      "\n"
     ]
    }
   ],
   "source": [
    "# Create feature \"language\" with langdetect library\n",
    "def lang_detect(x):\n",
    "    try:\n",
    "        return detect(x)\n",
    "    except:\n",
    "        pass\n",
    "\n",
    "data['short_body'] = data['Body'].apply(lambda x: x[0:100])\n",
    "data['lang'] = data.short_body.apply(lang_detect)"
   ]
  },
  {
   "cell_type": "code",
   "execution_count": 36,
   "id": "3448eb7f",
   "metadata": {},
   "outputs": [
    {
     "data": {
      "text/html": [
       "<div>\n",
       "<style scoped>\n",
       "    .dataframe tbody tr th:only-of-type {\n",
       "        vertical-align: middle;\n",
       "    }\n",
       "\n",
       "    .dataframe tbody tr th {\n",
       "        vertical-align: top;\n",
       "    }\n",
       "\n",
       "    .dataframe thead th {\n",
       "        text-align: right;\n",
       "    }\n",
       "</style>\n",
       "<table border=\"1\" class=\"dataframe\">\n",
       "  <thead>\n",
       "    <tr style=\"text-align: right;\">\n",
       "      <th></th>\n",
       "      <th>lang</th>\n",
       "    </tr>\n",
       "  </thead>\n",
       "  <tbody>\n",
       "    <tr>\n",
       "      <th>en</th>\n",
       "      <td>80141</td>\n",
       "    </tr>\n",
       "    <tr>\n",
       "      <th>it</th>\n",
       "      <td>15</td>\n",
       "    </tr>\n",
       "    <tr>\n",
       "      <th>fr</th>\n",
       "      <td>12</td>\n",
       "    </tr>\n",
       "    <tr>\n",
       "      <th>da</th>\n",
       "      <td>11</td>\n",
       "    </tr>\n",
       "    <tr>\n",
       "      <th>ca</th>\n",
       "      <td>10</td>\n",
       "    </tr>\n",
       "    <tr>\n",
       "      <th>nl</th>\n",
       "      <td>6</td>\n",
       "    </tr>\n",
       "    <tr>\n",
       "      <th>af</th>\n",
       "      <td>5</td>\n",
       "    </tr>\n",
       "    <tr>\n",
       "      <th>no</th>\n",
       "      <td>4</td>\n",
       "    </tr>\n",
       "    <tr>\n",
       "      <th>sv</th>\n",
       "      <td>4</td>\n",
       "    </tr>\n",
       "    <tr>\n",
       "      <th>de</th>\n",
       "      <td>3</td>\n",
       "    </tr>\n",
       "    <tr>\n",
       "      <th>tl</th>\n",
       "      <td>3</td>\n",
       "    </tr>\n",
       "    <tr>\n",
       "      <th>pt</th>\n",
       "      <td>2</td>\n",
       "    </tr>\n",
       "    <tr>\n",
       "      <th>cy</th>\n",
       "      <td>2</td>\n",
       "    </tr>\n",
       "    <tr>\n",
       "      <th>es</th>\n",
       "      <td>1</td>\n",
       "    </tr>\n",
       "    <tr>\n",
       "      <th>vi</th>\n",
       "      <td>1</td>\n",
       "    </tr>\n",
       "    <tr>\n",
       "      <th>id</th>\n",
       "      <td>1</td>\n",
       "    </tr>\n",
       "    <tr>\n",
       "      <th>ta</th>\n",
       "      <td>1</td>\n",
       "    </tr>\n",
       "    <tr>\n",
       "      <th>so</th>\n",
       "      <td>1</td>\n",
       "    </tr>\n",
       "    <tr>\n",
       "      <th>sl</th>\n",
       "      <td>1</td>\n",
       "    </tr>\n",
       "  </tbody>\n",
       "</table>\n",
       "</div>"
      ],
      "text/plain": [
       "     lang\n",
       "en  80141\n",
       "it     15\n",
       "fr     12\n",
       "da     11\n",
       "ca     10\n",
       "nl      6\n",
       "af      5\n",
       "no      4\n",
       "sv      4\n",
       "de      3\n",
       "tl      3\n",
       "pt      2\n",
       "cy      2\n",
       "es      1\n",
       "vi      1\n",
       "id      1\n",
       "ta      1\n",
       "so      1\n",
       "sl      1"
      ]
     },
     "execution_count": 36,
     "metadata": {},
     "output_type": "execute_result"
    }
   ],
   "source": [
    "pd.DataFrame(data.lang.value_counts())"
   ]
  },
  {
   "cell_type": "code",
   "execution_count": 37,
   "id": "82948f1b",
   "metadata": {},
   "outputs": [],
   "source": [
    "# filter data on English questions\n",
    "data = data[data['lang']=='en']"
   ]
  },
  {
   "cell_type": "code",
   "execution_count": 63,
   "id": "9ff78218",
   "metadata": {},
   "outputs": [],
   "source": [
    "def text_cleaner(x, nlp):\n",
    "    \"\"\"Function allowing to \n",
    "    - remove extra spaces\n",
    "    - unicode characters, \n",
    "    - English contractions, \n",
    "    - links\n",
    "    - punctuation and numbers.\n",
    "        \n",
    "    Parameters\n",
    "    ----------------------------------------\n",
    "    x : string\n",
    "        Sequence of characters to modify.\n",
    "    ----------------------------------------\n",
    "    \"\"\"\n",
    "    # Remove POS not in \"NOUN\", \"PROPN\"\n",
    "    #x = remove_pos(nlp, x)\n",
    "    # Case normalization\n",
    "    x = x.lower()\n",
    "    # Remove unicode characters\n",
    "    x = x.encode(\"ascii\", \"ignore\").decode()\n",
    "    # Remove English contractions\n",
    "    x = re.sub(\"\\'\\w+\", '', x)\n",
    "    # Remove ponctuation but not # (for C# for example)\n",
    "    x = re.sub('[^\\\\w\\\\s#]', '', x)\n",
    "    # Remove links\n",
    "    x = re.sub(r'http*\\S+', '', x)\n",
    "    # Remove numbers\n",
    "    x = re.sub(r'\\w*\\d+\\w*', '', x)\n",
    "    # Remove extra spaces\n",
    "    x = re.sub('\\s+', ' ', x)\n",
    "    \n",
    "    # Return cleaned text\n",
    "    return x"
   ]
  },
  {
   "cell_type": "code",
   "execution_count": 49,
   "id": "39165aa9",
   "metadata": {},
   "outputs": [],
   "source": [
    "import spacy\n",
    "from spacy import displacy\n",
    "from tqdm import tqdm"
   ]
  },
  {
   "cell_type": "code",
   "execution_count": 64,
   "id": "feaa39b7",
   "metadata": {
    "scrolled": true
   },
   "outputs": [
    {
     "name": "stderr",
     "output_type": "stream",
     "text": [
      "100%|███████████████████████████████████| 80141/80141 [00:21<00:00, 3780.72it/s]"
     ]
    },
    {
     "name": "stdout",
     "output_type": "stream",
     "text": [
      "Id\n",
      "4     i want to assign the decimal variable trans to...\n",
      "9     given a representing a person birthday how do ...\n",
      "13    is there a standard way for a web server to be...\n",
      "Name: Body_clean, dtype: object\n"
     ]
    },
    {
     "name": "stderr",
     "output_type": "stream",
     "text": [
      "\n"
     ]
    }
   ],
   "source": [
    "# Spacy features\n",
    "nlp = spacy.load(\"en_core_web_sm\", exclude=['tok2vec', 'ner', 'parser', \n",
    "                                'attribute_ruler', 'lemmatizer'])\n",
    "#pos_list = [\"NOUN\",\"PROPN\"]\n",
    "\n",
    "tqdm.pandas()\n",
    "data['Body_clean'] = data.Body.progress_apply(lambda x : text_cleaner(x, nlp))\n",
    "print(data['Body_clean'].head(3))"
   ]
  },
  {
   "cell_type": "code",
   "execution_count": 65,
   "id": "94e28f1e",
   "metadata": {
    "scrolled": true
   },
   "outputs": [
    {
     "data": {
      "text/html": [
       "<div>\n",
       "<style scoped>\n",
       "    .dataframe tbody tr th:only-of-type {\n",
       "        vertical-align: middle;\n",
       "    }\n",
       "\n",
       "    .dataframe tbody tr th {\n",
       "        vertical-align: top;\n",
       "    }\n",
       "\n",
       "    .dataframe thead th {\n",
       "        text-align: right;\n",
       "    }\n",
       "</style>\n",
       "<table border=\"1\" class=\"dataframe\">\n",
       "  <thead>\n",
       "    <tr style=\"text-align: right;\">\n",
       "      <th></th>\n",
       "      <th>CreationDate</th>\n",
       "      <th>Score</th>\n",
       "      <th>ViewCount</th>\n",
       "      <th>AnswerCount</th>\n",
       "      <th>CommentCount</th>\n",
       "      <th>FavoriteCount</th>\n",
       "      <th>Title</th>\n",
       "      <th>Body</th>\n",
       "      <th>Tags</th>\n",
       "      <th>Tags_list</th>\n",
       "      <th>Tags_count</th>\n",
       "      <th>number_of_tags</th>\n",
       "      <th>short_body</th>\n",
       "      <th>lang</th>\n",
       "      <th>Body_clean</th>\n",
       "    </tr>\n",
       "    <tr>\n",
       "      <th>Id</th>\n",
       "      <th></th>\n",
       "      <th></th>\n",
       "      <th></th>\n",
       "      <th></th>\n",
       "      <th></th>\n",
       "      <th></th>\n",
       "      <th></th>\n",
       "      <th></th>\n",
       "      <th></th>\n",
       "      <th></th>\n",
       "      <th></th>\n",
       "      <th></th>\n",
       "      <th></th>\n",
       "      <th></th>\n",
       "      <th></th>\n",
       "    </tr>\n",
       "  </thead>\n",
       "  <tbody>\n",
       "    <tr>\n",
       "      <th>4</th>\n",
       "      <td>2008-07-31 21:42:52</td>\n",
       "      <td>792</td>\n",
       "      <td>69863</td>\n",
       "      <td>14</td>\n",
       "      <td>7</td>\n",
       "      <td>0</td>\n",
       "      <td>How to convert Decimal to Double in C#?</td>\n",
       "      <td>I want to assign the decimal variable \"trans\" ...</td>\n",
       "      <td>c#,floating-point,type-conversion,double,decimal</td>\n",
       "      <td>[c#]</td>\n",
       "      <td>5</td>\n",
       "      <td>1</td>\n",
       "      <td>I want to assign the decimal variable \"trans\" ...</td>\n",
       "      <td>en</td>\n",
       "      <td>i want to assign the decimal variable trans to...</td>\n",
       "    </tr>\n",
       "    <tr>\n",
       "      <th>9</th>\n",
       "      <td>2008-07-31 23:40:59</td>\n",
       "      <td>2195</td>\n",
       "      <td>776461</td>\n",
       "      <td>72</td>\n",
       "      <td>10</td>\n",
       "      <td>0</td>\n",
       "      <td>How do I calculate someone's age based on a Da...</td>\n",
       "      <td>Given a   representing a person's birthday, ho...</td>\n",
       "      <td>c#,.net,datetime</td>\n",
       "      <td>[c#, .net]</td>\n",
       "      <td>3</td>\n",
       "      <td>2</td>\n",
       "      <td>Given a   representing a person's birthday, ho...</td>\n",
       "      <td>en</td>\n",
       "      <td>given a representing a person birthday how do ...</td>\n",
       "    </tr>\n",
       "    <tr>\n",
       "      <th>13</th>\n",
       "      <td>2008-08-01 00:42:38</td>\n",
       "      <td>698</td>\n",
       "      <td>272985</td>\n",
       "      <td>27</td>\n",
       "      <td>10</td>\n",
       "      <td>0</td>\n",
       "      <td>Determine a user's timezone</td>\n",
       "      <td>Is there a standard way for a web server to be...</td>\n",
       "      <td>html,browser,timezone,user-agent,timezone-offset</td>\n",
       "      <td>[html]</td>\n",
       "      <td>5</td>\n",
       "      <td>1</td>\n",
       "      <td>Is there a standard way for a web server to be...</td>\n",
       "      <td>en</td>\n",
       "      <td>is there a standard way for a web server to be...</td>\n",
       "    </tr>\n",
       "    <tr>\n",
       "      <th>19</th>\n",
       "      <td>2008-08-01 05:21:22</td>\n",
       "      <td>350</td>\n",
       "      <td>67052</td>\n",
       "      <td>24</td>\n",
       "      <td>17</td>\n",
       "      <td>0</td>\n",
       "      <td>What is the fastest way to get the value of π?</td>\n",
       "      <td>I'm looking for the fastest way to obtain the ...</td>\n",
       "      <td>performance,algorithm,language-agnostic,unix,pi</td>\n",
       "      <td>[performance, algorithm]</td>\n",
       "      <td>5</td>\n",
       "      <td>2</td>\n",
       "      <td>I'm looking for the fastest way to obtain the ...</td>\n",
       "      <td>en</td>\n",
       "      <td>i looking for the fastest way to obtain the va...</td>\n",
       "    </tr>\n",
       "    <tr>\n",
       "      <th>123</th>\n",
       "      <td>2008-08-01 16:08:52</td>\n",
       "      <td>120</td>\n",
       "      <td>80193</td>\n",
       "      <td>16</td>\n",
       "      <td>8</td>\n",
       "      <td>0</td>\n",
       "      <td>Java lib or app to convert CSV to XML file?</td>\n",
       "      <td>Is there an existing application or library in...</td>\n",
       "      <td>java,xml,csv,data-conversion</td>\n",
       "      <td>[java]</td>\n",
       "      <td>4</td>\n",
       "      <td>1</td>\n",
       "      <td>Is there an existing application or library in...</td>\n",
       "      <td>en</td>\n",
       "      <td>is there an existing application or library in...</td>\n",
       "    </tr>\n",
       "    <tr>\n",
       "      <th>...</th>\n",
       "      <td>...</td>\n",
       "      <td>...</td>\n",
       "      <td>...</td>\n",
       "      <td>...</td>\n",
       "      <td>...</td>\n",
       "      <td>...</td>\n",
       "      <td>...</td>\n",
       "      <td>...</td>\n",
       "      <td>...</td>\n",
       "      <td>...</td>\n",
       "      <td>...</td>\n",
       "      <td>...</td>\n",
       "      <td>...</td>\n",
       "      <td>...</td>\n",
       "      <td>...</td>\n",
       "    </tr>\n",
       "    <tr>\n",
       "      <th>36371706</th>\n",
       "      <td>2016-04-02 09:48:45</td>\n",
       "      <td>6</td>\n",
       "      <td>1443</td>\n",
       "      <td>1</td>\n",
       "      <td>6</td>\n",
       "      <td>0</td>\n",
       "      <td>Linked lists, arrays, and hardware memory caches</td>\n",
       "      <td>While questions have been asked before about l...</td>\n",
       "      <td>arrays,performance,linked-list,language-agnost...</td>\n",
       "      <td>[arrays, performance]</td>\n",
       "      <td>5</td>\n",
       "      <td>2</td>\n",
       "      <td>While questions have been asked before about l...</td>\n",
       "      <td>en</td>\n",
       "      <td>while questions have been asked before about l...</td>\n",
       "    </tr>\n",
       "    <tr>\n",
       "      <th>36371748</th>\n",
       "      <td>2016-04-02 09:52:42</td>\n",
       "      <td>73</td>\n",
       "      <td>143214</td>\n",
       "      <td>8</td>\n",
       "      <td>6</td>\n",
       "      <td>0</td>\n",
       "      <td>Spring Boot access static resources missing sc...</td>\n",
       "      <td>I am working on a Spring Boot application. I n...</td>\n",
       "      <td>java,spring,spring-boot,resources,spring-prope...</td>\n",
       "      <td>[java, spring]</td>\n",
       "      <td>5</td>\n",
       "      <td>2</td>\n",
       "      <td>I am working on a Spring Boot application. I n...</td>\n",
       "      <td>en</td>\n",
       "      <td>i am working on a spring boot application i ne...</td>\n",
       "    </tr>\n",
       "    <tr>\n",
       "      <th>36372274</th>\n",
       "      <td>2016-04-02 10:48:30</td>\n",
       "      <td>6</td>\n",
       "      <td>1546</td>\n",
       "      <td>1</td>\n",
       "      <td>6</td>\n",
       "      <td>0</td>\n",
       "      <td>How to get conflicts before merge with JGit?</td>\n",
       "      <td>I am trying to perform with JGit all the merge...</td>\n",
       "      <td>git,conflict,jgit,simulate</td>\n",
       "      <td>[git]</td>\n",
       "      <td>4</td>\n",
       "      <td>1</td>\n",
       "      <td>I am trying to perform with JGit all the merge...</td>\n",
       "      <td>en</td>\n",
       "      <td>i am trying to perform with jgit all the merge...</td>\n",
       "    </tr>\n",
       "    <tr>\n",
       "      <th>36372525</th>\n",
       "      <td>2016-04-02 11:16:03</td>\n",
       "      <td>8</td>\n",
       "      <td>2058</td>\n",
       "      <td>5</td>\n",
       "      <td>10</td>\n",
       "      <td>0</td>\n",
       "      <td>Alea GPU Tutorial not compiling on VS 2015 Upd...</td>\n",
       "      <td>I am getting error while compiling Alea GPU Tu...</td>\n",
       "      <td>c#,f#,aleagpu</td>\n",
       "      <td>[c#]</td>\n",
       "      <td>3</td>\n",
       "      <td>1</td>\n",
       "      <td>I am getting error while compiling Alea GPU Tu...</td>\n",
       "      <td>en</td>\n",
       "      <td>i am getting error while compiling alea gpu tu...</td>\n",
       "    </tr>\n",
       "    <tr>\n",
       "      <th>36372611</th>\n",
       "      <td>2016-04-02 11:25:49</td>\n",
       "      <td>83</td>\n",
       "      <td>26060</td>\n",
       "      <td>13</td>\n",
       "      <td>7</td>\n",
       "      <td>0</td>\n",
       "      <td>How to test if an object is a Proxy?</td>\n",
       "      <td>I would like to test if a JavaScript object is...</td>\n",
       "      <td>javascript,ecmascript-6,proxy-classes</td>\n",
       "      <td>[javascript]</td>\n",
       "      <td>3</td>\n",
       "      <td>1</td>\n",
       "      <td>I would like to test if a JavaScript object is...</td>\n",
       "      <td>en</td>\n",
       "      <td>i would like to test if a javascript object is...</td>\n",
       "    </tr>\n",
       "  </tbody>\n",
       "</table>\n",
       "<p>80141 rows × 15 columns</p>\n",
       "</div>"
      ],
      "text/plain": [
       "                CreationDate  Score  ViewCount  AnswerCount  CommentCount  \\\n",
       "Id                                                                          \n",
       "4        2008-07-31 21:42:52    792      69863           14             7   \n",
       "9        2008-07-31 23:40:59   2195     776461           72            10   \n",
       "13       2008-08-01 00:42:38    698     272985           27            10   \n",
       "19       2008-08-01 05:21:22    350      67052           24            17   \n",
       "123      2008-08-01 16:08:52    120      80193           16             8   \n",
       "...                      ...    ...        ...          ...           ...   \n",
       "36371706 2016-04-02 09:48:45      6       1443            1             6   \n",
       "36371748 2016-04-02 09:52:42     73     143214            8             6   \n",
       "36372274 2016-04-02 10:48:30      6       1546            1             6   \n",
       "36372525 2016-04-02 11:16:03      8       2058            5            10   \n",
       "36372611 2016-04-02 11:25:49     83      26060           13             7   \n",
       "\n",
       "          FavoriteCount                                              Title  \\\n",
       "Id                                                                           \n",
       "4                     0            How to convert Decimal to Double in C#?   \n",
       "9                     0  How do I calculate someone's age based on a Da...   \n",
       "13                    0                        Determine a user's timezone   \n",
       "19                    0     What is the fastest way to get the value of π?   \n",
       "123                   0        Java lib or app to convert CSV to XML file?   \n",
       "...                 ...                                                ...   \n",
       "36371706              0   Linked lists, arrays, and hardware memory caches   \n",
       "36371748              0  Spring Boot access static resources missing sc...   \n",
       "36372274              0       How to get conflicts before merge with JGit?   \n",
       "36372525              0  Alea GPU Tutorial not compiling on VS 2015 Upd...   \n",
       "36372611              0               How to test if an object is a Proxy?   \n",
       "\n",
       "                                                       Body  \\\n",
       "Id                                                            \n",
       "4         I want to assign the decimal variable \"trans\" ...   \n",
       "9         Given a   representing a person's birthday, ho...   \n",
       "13        Is there a standard way for a web server to be...   \n",
       "19        I'm looking for the fastest way to obtain the ...   \n",
       "123       Is there an existing application or library in...   \n",
       "...                                                     ...   \n",
       "36371706  While questions have been asked before about l...   \n",
       "36371748  I am working on a Spring Boot application. I n...   \n",
       "36372274  I am trying to perform with JGit all the merge...   \n",
       "36372525  I am getting error while compiling Alea GPU Tu...   \n",
       "36372611  I would like to test if a JavaScript object is...   \n",
       "\n",
       "                                                       Tags  \\\n",
       "Id                                                            \n",
       "4          c#,floating-point,type-conversion,double,decimal   \n",
       "9                                          c#,.net,datetime   \n",
       "13         html,browser,timezone,user-agent,timezone-offset   \n",
       "19          performance,algorithm,language-agnostic,unix,pi   \n",
       "123                            java,xml,csv,data-conversion   \n",
       "...                                                     ...   \n",
       "36371706  arrays,performance,linked-list,language-agnost...   \n",
       "36371748  java,spring,spring-boot,resources,spring-prope...   \n",
       "36372274                         git,conflict,jgit,simulate   \n",
       "36372525                                      c#,f#,aleagpu   \n",
       "36372611              javascript,ecmascript-6,proxy-classes   \n",
       "\n",
       "                         Tags_list  Tags_count  number_of_tags  \\\n",
       "Id                                                               \n",
       "4                             [c#]           5               1   \n",
       "9                       [c#, .net]           3               2   \n",
       "13                          [html]           5               1   \n",
       "19        [performance, algorithm]           5               2   \n",
       "123                         [java]           4               1   \n",
       "...                            ...         ...             ...   \n",
       "36371706     [arrays, performance]           5               2   \n",
       "36371748            [java, spring]           5               2   \n",
       "36372274                     [git]           4               1   \n",
       "36372525                      [c#]           3               1   \n",
       "36372611              [javascript]           3               1   \n",
       "\n",
       "                                                 short_body lang  \\\n",
       "Id                                                                 \n",
       "4         I want to assign the decimal variable \"trans\" ...   en   \n",
       "9         Given a   representing a person's birthday, ho...   en   \n",
       "13        Is there a standard way for a web server to be...   en   \n",
       "19        I'm looking for the fastest way to obtain the ...   en   \n",
       "123       Is there an existing application or library in...   en   \n",
       "...                                                     ...  ...   \n",
       "36371706  While questions have been asked before about l...   en   \n",
       "36371748  I am working on a Spring Boot application. I n...   en   \n",
       "36372274  I am trying to perform with JGit all the merge...   en   \n",
       "36372525  I am getting error while compiling Alea GPU Tu...   en   \n",
       "36372611  I would like to test if a JavaScript object is...   en   \n",
       "\n",
       "                                                 Body_clean  \n",
       "Id                                                           \n",
       "4         i want to assign the decimal variable trans to...  \n",
       "9         given a representing a person birthday how do ...  \n",
       "13        is there a standard way for a web server to be...  \n",
       "19        i looking for the fastest way to obtain the va...  \n",
       "123       is there an existing application or library in...  \n",
       "...                                                     ...  \n",
       "36371706  while questions have been asked before about l...  \n",
       "36371748  i am working on a spring boot application i ne...  \n",
       "36372274  i am trying to perform with jgit all the merge...  \n",
       "36372525  i am getting error while compiling alea gpu tu...  \n",
       "36372611  i would like to test if a javascript object is...  \n",
       "\n",
       "[80141 rows x 15 columns]"
      ]
     },
     "execution_count": 65,
     "metadata": {},
     "output_type": "execute_result"
    }
   ],
   "source": [
    "data"
   ]
  },
  {
   "cell_type": "code",
   "execution_count": 67,
   "id": "66ffc454",
   "metadata": {
    "scrolled": true
   },
   "outputs": [
    {
     "name": "stdout",
     "output_type": "stream",
     "text": [
      "--------------------------------------------------\n",
      "Id\n",
      "4     [want, assign, decimal, variable, trans, doubl...\n",
      "9     [given, representing, person, birthday, calcul...\n",
      "13    [standard, way, web, server, able, determine, ...\n",
      "Name: Body_clean, dtype: object\n"
     ]
    }
   ],
   "source": [
    "# Tockenization\n",
    "data['Body_clean'] = data.Body_clean.apply(nltk.tokenize.word_tokenize)\n",
    "\n",
    "# List of stopwords \n",
    "stop_words = stopwords.words(\"english\")\n",
    "\n",
    "# Remove stopwords\n",
    "tqdm.pandas()\n",
    "data['Body_clean'] = data.Body_clean\\\n",
    "    .apply(lambda x : [word for word in x\n",
    "                       if word not in stop_words\n",
    "                       and len(word)>2])\n",
    "print('-' * 50)\n",
    "print(data['Body_clean'].head(3))"
   ]
  },
  {
   "cell_type": "code",
   "execution_count": 88,
   "id": "fd660af6",
   "metadata": {},
   "outputs": [
    {
     "data": {
      "image/png": "[encoded data removed]",
      "text/plain": [
       "<Figure size 1440x864 with 1 Axes>"
      ]
     },
     "metadata": {},
     "output_type": "display_data"
    }
   ],
   "source": [
    "# Calculate lenght of each list in Body\n",
    "data['body_tokens_count'] = [len(_) for _ in data.Body_clean]\n",
    "\n",
    "# Countplot of body lenght\n",
    "fig = plt.figure(figsize=(20, 12))\n",
    "ax = sns.countplot(x=data.body_tokens_count, color=\"grey\")\n",
    "start, end = ax.get_xlim()\n",
    "ax.xaxis.set_ticks(np.arange(0, end, 25))\n",
    "plot_median = data.body_tokens_count.median()\n",
    "plt.axvline(plot_median - data.body_tokens_count.min(),\n",
    "            color=\"r\", linestyle='--',\n",
    "            label=\"Body tokens Length median : \"+str(plot_median))\n",
    "ax.set_xlabel(\"Length of body tokens\")\n",
    "plt.title(\"Body tokens length (after cleaning)\",\n",
    "          fontsize=18, color=\"blue\")\n",
    "plt.legend()\n",
    "plt.show()"
   ]
  },
  {
   "cell_type": "code",
   "execution_count": 71,
   "id": "c892a5fa",
   "metadata": {},
   "outputs": [
    {
     "name": "stderr",
     "output_type": "stream",
     "text": [
      "[nltk_data] Downloading package wordnet to\n",
      "[nltk_data]     /Users/oumniasadaouni/nltk_data...\n",
      "[nltk_data]   Package wordnet is already up-to-date!\n",
      "[nltk_data] Downloading package omw-1.4 to\n",
      "[nltk_data]     /Users/oumniasadaouni/nltk_data...\n"
     ]
    },
    {
     "data": {
      "text/plain": [
       "True"
      ]
     },
     "execution_count": 71,
     "metadata": {},
     "output_type": "execute_result"
    }
   ],
   "source": [
    "nltk.download('wordnet')\n",
    "nltk.download('omw-1.4')"
   ]
  },
  {
   "cell_type": "code",
   "execution_count": 72,
   "id": "8eedb43a",
   "metadata": {
    "scrolled": true
   },
   "outputs": [
    {
     "name": "stdout",
     "output_type": "stream",
     "text": [
      "--------------------------------------------------\n",
      "Id\n",
      "4     [want, assign, decimal, variable, trans, doubl...\n",
      "9     [given, representing, person, birthday, calcul...\n",
      "13    [standard, way, web, server, able, determine, ...\n",
      "Name: Body_clean, dtype: object\n",
      "--------------------------------------------------\n"
     ]
    }
   ],
   "source": [
    "# Apply lemmatizer on Body\n",
    "wn = WordNetLemmatizer()\n",
    "data['Body_clean'] = data.Body_clean\\\n",
    "    .apply(lambda x : [wn.lemmatize(word) for word in x])\n",
    "print('-' * 50)\n",
    "print(data['Body_clean'].head(3))\n",
    "print('-' * 50)"
   ]
  },
  {
   "cell_type": "markdown",
   "id": "f0b8c0ac",
   "metadata": {},
   "source": [
    "## Titles"
   ]
  },
  {
   "cell_type": "code",
   "execution_count": 83,
   "id": "2b812706",
   "metadata": {},
   "outputs": [],
   "source": [
    "def text_cleaner(x, nlp, lang=\"english\"):\n",
    "    \n",
    "    # Remove POS not in \"NOUN\", \"PROPN\"\n",
    "    #x = remove_pos(nlp, x, pos_list)\n",
    "    # Case normalization\n",
    "    x = x.lower()\n",
    "    # Remove unicode characters\n",
    "    x = x.encode(\"ascii\", \"ignore\").decode()\n",
    "    # Remove English contractions\n",
    "    x = re.sub(\"\\'\\w+\", '', x)\n",
    "    # Remove ponctuation but not # (for C# for example)\n",
    "    x = re.sub('[^\\\\w\\\\s#]', '', x)\n",
    "    # Remove links\n",
    "    x = re.sub(r'http*\\S+', '', x)\n",
    "    # Remove numbers\n",
    "    x = re.sub(r'\\w*\\d+\\w*', '', x)\n",
    "    # Remove extra spaces\n",
    "    x = re.sub('\\s+', ' ', x)\n",
    "        \n",
    "    # Tokenization\n",
    "    x = nltk.tokenize.word_tokenize(x)\n",
    "    # List of stopwords\n",
    "    stop_words = stopwords.words(lang)\n",
    "    # Remove stopwords\n",
    "    x = [word for word in x if word not in stop_words \n",
    "         and len(word)>2]\n",
    "    # Lemmatizer\n",
    "    wn = nltk.WordNetLemmatizer()\n",
    "    x = [wn.lemmatize(word) for word in x]\n",
    "    \n",
    "    # Return cleaned text\n",
    "    return x"
   ]
  },
  {
   "cell_type": "code",
   "execution_count": 84,
   "id": "1a93c7d1",
   "metadata": {},
   "outputs": [
    {
     "name": "stderr",
     "output_type": "stream",
     "text": [
      "100%|███████████████████████████████████| 80141/80141 [00:28<00:00, 2849.76it/s]"
     ]
    },
    {
     "name": "stdout",
     "output_type": "stream",
     "text": [
      "--------------------------------------------------\n",
      "Id\n",
      "4                            [convert, decimal, double]\n",
      "9     [calculate, someone, age, based, datetime, typ...\n",
      "13                          [determine, user, timezone]\n",
      "Name: Title_clean, dtype: object\n",
      "--------------------------------------------------\n"
     ]
    },
    {
     "name": "stderr",
     "output_type": "stream",
     "text": [
      "\n"
     ]
    }
   ],
   "source": [
    "# Spacy features\n",
    "nlp = spacy.load(\"en_core_web_sm\", exclude=['tok2vec', 'ner', 'parser', \n",
    "                                'attribute_ruler', 'lemmatizer'])\n",
    "#pos_list = [\"NOUN\",\"PROPN\"]\n",
    "\n",
    "# Apply full cleaner on Title\n",
    "data['Title_clean'] = data.Title\\\n",
    "                            .progress_apply(lambda x: \n",
    "                                            text_cleaner(x,\n",
    "                                                         nlp,\n",
    "                                                         \"english\"))\n",
    "print('-' * 50)\n",
    "print(data['Title_clean'].head(3))\n",
    "print('-' * 50)"
   ]
  },
  {
   "cell_type": "code",
   "execution_count": 89,
   "id": "4623b93e",
   "metadata": {
    "scrolled": true
   },
   "outputs": [
    {
     "data": {
      "image/png": "[encoded data removed]",
      "text/plain": [
       "<Figure size 1440x864 with 1 Axes>"
      ]
     },
     "metadata": {},
     "output_type": "display_data"
    }
   ],
   "source": [
    "# length of each list in Body\n",
    "data['Title_tokens_count'] = [len(_) for _ in data.Title_clean]\n",
    "\n",
    "# Countplot of body lenght\n",
    "fig = plt.figure(figsize=(20, 12))\n",
    "ax = sns.countplot(x=data.Title_tokens_count, color=\"grey\")\n",
    "median_plot = data.Title_tokens_count.median()\n",
    "plt.axvline(median_plot - data.Title_tokens_count.min(),\n",
    "            color=\"r\", linestyle='--',\n",
    "            label=\"Title tokens Length median : \"+str(median_plot))\n",
    "ax.set_xlabel(\"Length of body tokens\")\n",
    "plt.title(\"Title tokens length (after cleaning)\",\n",
    "          fontsize=18, color=\"blue\")\n",
    "plt.legend()\n",
    "plt.show()"
   ]
  }
 ],
 "metadata": {
  "kernelspec": {
   "display_name": "Python 3 (ipykernel)",
   "language": "python",
   "name": "python3"
  },
  "language_info": {
   "codemirror_mode": {
    "name": "ipython",
    "version": 3
   },
   "file_extension": ".py",
   "mimetype": "text/x-python",
   "name": "python",
   "nbconvert_exporter": "python",
   "pygments_lexer": "ipython3",
   "version": "3.8.6"
  },
  "toc": {
   "base_numbering": 1,
   "nav_menu": {},
   "number_sections": true,
   "sideBar": true,
   "skip_h1_title": false,
   "title_cell": "Table of Contents",
   "title_sidebar": "Contents",
   "toc_cell": false,
   "toc_position": {},
   "toc_section_display": true,
   "toc_window_display": false
  }
 },
 "nbformat": 4,
 "nbformat_minor": 5
}
